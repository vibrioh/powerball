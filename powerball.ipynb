{
 "cells": [
  {
   "cell_type": "code",
   "execution_count": 122,
   "metadata": {},
   "outputs": [
    {
     "data": {
      "text/html": [
       "<style>.container { width:100% !important; }</style>"
      ],
      "text/plain": [
       "<IPython.core.display.HTML object>"
      ]
     },
     "metadata": {},
     "output_type": "display_data"
    }
   ],
   "source": [
    "#!/usr/bin/env python\n",
    "from IPython.core.display import display, HTML\n",
    "display(HTML(\"<style>.container { width:100% !important; }</style>\"))\n",
    "import json\n",
    "import requests\n",
    "import datetime\n",
    "from math import e\n",
    "import operator\n",
    "import random\n",
    " \n",
    "# Select five numbers from 1 to 69 for the white balls; then select one number from 1 to 26 for the red Powerball.\n"
   ]
  },
  {
   "cell_type": "code",
   "execution_count": 59,
   "metadata": {},
   "outputs": [
    {
     "data": {
      "text/plain": [
       "[{'draw_date': '2019-02-02T00:00:00.000',\n",
       "  'multiplier': '5',\n",
       "  'winning_numbers': '10 17 18 43 65 13'},\n",
       " {'draw_date': '2019-01-30T00:00:00.000',\n",
       "  'multiplier': '2',\n",
       "  'winning_numbers': '02 12 16 29 54 06'}]"
      ]
     },
     "execution_count": 59,
     "metadata": {},
     "output_type": "execute_result"
    }
   ],
   "source": [
    "re = requests.get(\"https://data.ny.gov/resource/d6yy-54nr.json\").json()\n",
    "re[:2]"
   ]
  },
  {
   "cell_type": "code",
   "execution_count": 98,
   "metadata": {},
   "outputs": [
    {
     "data": {
      "text/plain": [
       "[{'draw_date': 4,\n",
       "  'white_numbers': ['10', '17', '18', '43', '65'],\n",
       "  'red_number': '13'},\n",
       " {'draw_date': 7,\n",
       "  'white_numbers': ['02', '12', '16', '29', '54'],\n",
       "  'red_number': '06'}]"
      ]
     },
     "execution_count": 98,
     "metadata": {},
     "output_type": "execute_result"
    }
   ],
   "source": [
    "now = datetime.datetime.now()\n",
    "processed = []\n",
    "for item in re:\n",
    "    if datetime.datetime.strptime(item[\"draw_date\"], \"%Y-%m-%dT%H:%M:%S.%f\") <= datetime.datetime.strptime(\"2015-10-04T00:00:00.000\", \"%Y-%m-%dT%H:%M:%S.%f\"):\n",
    "        break\n",
    "    new_item = {}\n",
    "    new_item[\"draw_date\"] = (now - datetime.datetime.strptime(item[\"draw_date\"], \"%Y-%m-%dT%H:%M:%S.%f\")).days\n",
    "    new_item[\"white_numbers\"] = item[\"winning_numbers\"].split(\" \")[:-1]\n",
    "    new_item[\"red_number\"] = item[\"winning_numbers\"].split(\" \")[-1]\n",
    "    processed.append(new_item)\n",
    "    \n",
    "processed[:2]"
   ]
  },
  {
   "cell_type": "code",
   "execution_count": 341,
   "metadata": {},
   "outputs": [],
   "source": [
    "white_pool = {}\n",
    "red_pool = {}\n",
    "for i in range(1, 70):\n",
    "    white_pool[i] = 88888888\n",
    "    if (i < 27):\n",
    "        red_pool[i] = 888888"
   ]
  },
  {
   "cell_type": "code",
   "execution_count": 344,
   "metadata": {},
   "outputs": [],
   "source": [
    "n = e\n",
    "for draw in processed:\n",
    "#     print(draw)\n",
    "    for num in draw[\"white_numbers\"]:\n",
    "        white_pool[int(num)] = white_pool[int(num)] - (n * e / draw[\"draw_date\"] * random.random())\n",
    "    red_pool[int(draw[\"red_number\"])] = red_pool[int(draw[\"red_number\"])] - (n * e / draw[\"draw_date\"] * random.random())\n",
    "    n = n + (e / random.random()) - (e / random.random())\n",
    "#     print(n)"
   ]
  },
  {
   "cell_type": "code",
   "execution_count": 345,
   "metadata": {},
   "outputs": [
    {
     "name": "stdout",
     "output_type": "stream",
     "text": [
      "[(67, 88888962.08164476), (29, 88888971.26275119), (47, 88888983.51279037), (33, 88888988.81648056), (12, 88889008.69969761)] (6, 888964.0201678654)\n"
     ]
    }
   ],
   "source": [
    "sorted_white = sorted(white_pool.items(), key=operator.itemgetter(1))\n",
    "sorted_red = sorted(red_pool.items(), key=operator.itemgetter(1))\n",
    "print(sorted_white[-5:], sorted_red[-1])"
   ]
  },
  {
   "cell_type": "code",
   "execution_count": 346,
   "metadata": {},
   "outputs": [
    {
     "name": "stdout",
     "output_type": "stream",
     "text": [
      "[(67, 88888962.08164476), (29, 88888971.26275119), (47, 88888983.51279037), (33, 88888988.81648056), (12, 88889008.69969761)] (6, 888964.0201678654)\n"
     ]
    }
   ],
   "source": [
    "print(sorted_white[-5:], sorted_red[-1])"
   ]
  },
  {
   "cell_type": "code",
   "execution_count": null,
   "metadata": {},
   "outputs": [],
   "source": []
  }
 ],
 "metadata": {
  "kernelspec": {
   "display_name": "Python 3",
   "language": "python",
   "name": "python3"
  },
  "language_info": {
   "codemirror_mode": {
    "name": "ipython",
    "version": 3
   },
   "file_extension": ".py",
   "mimetype": "text/x-python",
   "name": "python",
   "nbconvert_exporter": "python",
   "pygments_lexer": "ipython3",
   "version": "3.7.0"
  }
 },
 "nbformat": 4,
 "nbformat_minor": 1
}
